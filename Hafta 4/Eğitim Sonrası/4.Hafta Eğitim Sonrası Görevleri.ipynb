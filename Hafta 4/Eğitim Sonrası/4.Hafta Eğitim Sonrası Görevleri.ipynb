{
 "cells": [
  {
   "cell_type": "markdown",
   "metadata": {},
   "source": [
    "# Problem 1\n",
    "`ogrenciler` adında bir sözlük oluşturunuz. Kullanıcıdan döngü yardımıyla 3 öğrenci için veri girmesini isteyerek öğrencilerin sırasıyla okul numarası, isim, soy isim, telefon numarası ve doğum tarihi bilgilerini alınız. Aldığınız öğrenci bilgilerini yine aynı döngü yardımıyla `ogrenciler` adındaki sözlükte saklayınız. Daha sonra öğrenci bilgilerinin bulunduğu sözlük yapısını ekrana bastırınız.\n",
    "\n"
   ]
  },
  {
   "cell_type": "code",
   "execution_count": 2,
   "metadata": {},
   "outputs": [
    {
     "name": "stdout",
     "output_type": "stream",
     "text": [
      "okul no = 6789\n",
      "{'isim': 'yrgcbe', 'soy_isim': 'vbeıbrv', 'telefon_no': 6880, 'dogum_tarihi': 'yu'}\n"
     ]
    }
   ],
   "source": [
    "ogrenciler = dict()\n",
    "for i in range(1):\n",
    "    isim = input(\"İsminizi giriniz: \")\n",
    "    soyisim = input(\"Soyisminizi giriniz: \")\n",
    "    okulNumarasi = int(input(\"Okul numaranızı giriniz: \"))\n",
    "    telefonNumarasi = int(input(\"Telefon numaranızı giriniz: \"))\n",
    "    dogumTarihi= input(\"Doğum tarihinizi giriniz: \")\n",
    "ogrenci_bilgileri = {\n",
    "        \"isim\": isim,\n",
    "        \"soy_isim\": soyisim,\n",
    "        \"telefon_no\": telefonNumarasi,\n",
    "        \"dogum_tarihi\": dogumTarihi\n",
    "    }\n",
    "ogrenciler[okulNumarasi] = ogrenci_bilgileri\n",
    "for okulNumarasi in ogrenciler:\n",
    "    print(f\"okul no = {okulNumarasi}\")\n",
    "    for i in ogrenciler:\n",
    "        print(ogrenci_bilgileri)\n"
   ]
  },
  {
   "cell_type": "markdown",
   "metadata": {},
   "source": [
    "# Problem 2\n",
    "\n",
    "### a - Biraz ısınarak başlayalım!\n",
    "\n",
    "```\n",
    "numbers = [5,10,10,15,15,15,20,20,20,20]\n",
    "```\n",
    "\n",
    "Yukarıda `numbers` adında 10 elemanlı bir liste verilmiştir. Bu listenin her elemanını kontrol eden ve tekrar eden elemanları bir kez olacak şekilde başka bir listeye kopyalayan bir program yazınız. Son olarak oluşturduğunuz listeyi ekrana bastırınız.\n",
    "\n",
    "\n",
    "\n",
    "\n",
    "```\n",
    ">Output\n",
    "[5, 10, 15, 20]\n",
    "```\n"
   ]
  },
  {
   "cell_type": "code",
   "execution_count": 10,
   "metadata": {},
   "outputs": [
    {
     "name": "stdout",
     "output_type": "stream",
     "text": [
      "{10, 20, 5, 15}\n"
     ]
    }
   ],
   "source": [
    "numbers = [5,10,10,15,15,15,20,20,20,20]\n",
    "sayilar = set()\n",
    "for i in numbers:\n",
    "    sayilar.add(i)\n",
    "print(sayilar)"
   ]
  },
  {
   "cell_type": "code",
   "execution_count": 16,
   "metadata": {},
   "outputs": [
    {
     "name": "stdout",
     "output_type": "stream",
     "text": [
      "[5, 10, 15, 20]\n"
     ]
    }
   ],
   "source": [
    "numbers = [5,10,10,15,15,15,20,20,20,20]\n",
    "for i in range(2):\n",
    "    for i in numbers:\n",
    "        if numbers.count(i) == 1:\n",
    "            continue\n",
    "        else:\n",
    "            numbers.remove(i)\n",
    "print(numbers)"
   ]
  },
  {
   "cell_type": "markdown",
   "metadata": {},
   "source": [
    "### 🌶️ b) Hadi işi biraz daha zorlaştıralım! \n",
    "\n",
    "\n",
    "Şimdiyse senden `numbers` isimli listedeki tekrar eden elemanları `repeatNumbers` adındaki listeye; tekrar etmeyen elemanları `uniqueNumbers`adındaki listeye kopyalayan yazmanı ve listeleri ekrana bastırmanı bekliyoruz\n",
    "\n",
    "```\n",
    ">Output\n",
    "Tekrar Eden Elemanlar: [10, 10, 15, 15, 15, 20, 20, 20, 20]\n",
    "Tekrar Etmeyen Elemanlar: [5]\n",
    "```"
   ]
  },
  {
   "cell_type": "code",
   "execution_count": 17,
   "metadata": {},
   "outputs": [
    {
     "name": "stdout",
     "output_type": "stream",
     "text": [
      "[10, 10, 15, 15, 15, 20, 20, 20, 20]\n",
      "[5]\n"
     ]
    }
   ],
   "source": [
    "numbers = [5,10,10,15,15,15,20,20,20,20]\n",
    "repeatNumbers = []\n",
    "uniqueNumbers = []\n",
    "for i in numbers:\n",
    "    if numbers.count(i) == 1:\n",
    "        uniqueNumbers.append(i)\n",
    "    else:\n",
    "        repeatNumbers.append(i)\n",
    "print(repeatNumbers)\n",
    "print(uniqueNumbers)"
   ]
  },
  {
   "cell_type": "markdown",
   "metadata": {},
   "source": [
    "# Problem 3\n",
    "sn1 = {1,2,3,4,5}\n",
    "\n",
    "sn2 = {4,5,6,7,8}\n",
    "\n",
    " Verilen 2 adet küme için kesişimlerini, farklarını ve birleşimlerini bulunuz. "
   ]
  },
  {
   "cell_type": "code",
   "execution_count": 20,
   "metadata": {},
   "outputs": [
    {
     "name": "stdout",
     "output_type": "stream",
     "text": [
      "{4, 5}\n",
      "{1, 2, 3}\n",
      "{8, 6, 7}\n",
      "{1, 2, 3, 4, 5, 6, 7, 8}\n"
     ]
    }
   ],
   "source": [
    "sn1 = {1,2,3,4,5}\n",
    "sn2 = {4,5,6,7,8}\n",
    "kesisim = sn1.intersection(sn2)\n",
    "fark1 = sn1.difference(sn2)\n",
    "fark2 = sn2.difference(sn1)\n",
    "birlesim = sn1.union(sn2)\n",
    "print(kesisim)\n",
    "print(fark1)\n",
    "print(fark2)\n",
    "print(birlesim)"
   ]
  },
  {
   "cell_type": "markdown",
   "metadata": {},
   "source": [
    "# Problem 4\n",
    "\n",
    "Buradaki işlemlerimizin tamamı stringler içindir. Aşağıda verilecek olan metodlar için kendinizin örnek yaratması gerekmektedir. \n",
    "\n",
    "Örneğin `upper` için `string` değişkeni oluştururken` k = \"BAC\"` şeklinde oluşturmayınız. Bunun yerine k değişkenini `k = \"bac`\" şeklinde oluşturmanız `upper` metodundaki değişimi görebilmeniz için daha iyi olacaktır.\n",
    "\n",
    "Bütün metodlardaki değişimin gözle görülür şekilde değişimi beklenmektedir.\n",
    "\n",
    "\n",
    "1- capitalize(), lower(), upper(), swapcase(), title(), replace()\n",
    "\n",
    "2- endswith(), startswith(), find(), index(), count()\n",
    "\n",
    "3- split(), strip(), join(), islower(), isalpha(), isdigit()\n",
    "\n",
    "\n",
    "Yukarıdaki `string` metodlarındaki değişimleri görebildiğimiz bir program yazınız.\n"
   ]
  },
  {
   "cell_type": "code",
   "execution_count": 42,
   "metadata": {},
   "outputs": [
    {
     "name": "stdout",
     "output_type": "stream",
     "text": [
      "Bac bac BAC bAc Bac Bac Bac Elma Elma Elma\n",
      "13 14 2 True True\n",
      "False True ['Ahmet', ' Mehmet', ' Muhammed'] Vestel,Teknosa,Aygün A#Q#U#A#M#A#N\n"
     ]
    }
   ],
   "source": [
    "#1\n",
    "k = \"bac\"\n",
    "l = \"BAC\"\n",
    "m = \"BaC\"\n",
    "n = \"bac bac bac\"\n",
    "print(k.capitalize(),\n",
    "l.lower(),\n",
    "k.upper(),\n",
    "m.swapcase(),\n",
    "n.title(),\n",
    "n.replace(\"bac\",\"Elma\"))\n",
    "\n",
    "#2\n",
    "t = \"erkan baş.\"\n",
    "s = \"#yeter\"\n",
    "j = \"Hello World, Yusuf\"\n",
    "print(j.find(\"Yusuf\"),\n",
    "j.index(\"u\"),\n",
    "j.count(\"u\"),\n",
    "t.endswith(\".\"),\n",
    "s.startswith(\"#\"))\n",
    "\n",
    "#3\n",
    "mel = \"Ahmet, Mehmet, Muhammed\"\n",
    "mol = \"A\",\"Q\",\"U\",\"A\",\"M\",\"A\",\"N\"\n",
    "lem = [1,2,3,4,5,6,7,8,9,10]\n",
    "lam = \"Langeweile109\"\n",
    "sal = \"  Vestel,Teknosa,Aygün  \"\n",
    "dal = \"12320480\"\n",
    "print(lam.isalpha(),\n",
    "dal.isdigit(),\n",
    "mel.split(\",\"),\n",
    "sal.strip(),\n",
    "\"#\".join(mol))\n"
   ]
  }
 ],
 "metadata": {
  "kernelspec": {
   "display_name": "Python 3.10.5 64-bit",
   "language": "python",
   "name": "python3"
  },
  "language_info": {
   "codemirror_mode": {
    "name": "ipython",
    "version": 3
   },
   "file_extension": ".py",
   "mimetype": "text/x-python",
   "name": "python",
   "nbconvert_exporter": "python",
   "pygments_lexer": "ipython3",
   "version": "3.12.3"
  },
  "orig_nbformat": 4,
  "vscode": {
   "interpreter": {
    "hash": "5026d2d6e7aaaaba093def813beadff083d8733e4a511af01735cbabd156995d"
   }
  }
 },
 "nbformat": 4,
 "nbformat_minor": 2
}
