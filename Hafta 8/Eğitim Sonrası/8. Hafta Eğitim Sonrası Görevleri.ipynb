{
 "cells": [
  {
   "attachments": {},
   "cell_type": "markdown",
   "metadata": {},
   "source": [
    "# Problem 1\n",
    "\n",
    "Şimdi beraber kullanıcılardan aldığımız verileri işleyerek, onlara hem çıktı verecek, hem de aldığımız ve hesapladığımız verileri ileride kullanabilmek adına kaydedeceğiz.\n",
    "\n",
    "\n",
    " **Bu bir veri giriş platformu olacak**\n",
    "\n",
    "\n",
    " * kullanıcıya kaç giriş yapacağını soracağız\n",
    "* kullanıcıdan isim-soyisim, yaş, boy, kilo bilgilerini alarak VKİ hesaplayacağız\n",
    "* ardından bunları sınıflara göre kaydedeceğiz bir dosyaya kaydedeceğiz\n",
    "\n",
    "\n",
    "Sınıflar ise şu şekilde: \n",
    "* 18, 5 kg/m.'nin altında olanlar: Zayıf\n",
    "* 18.5 – 24, 9 kg/m. arasında olanlar: Normal kilolu\n",
    "* 25 – 29, 9 kg/m. arasında olanlar: Fazla kilolu\n",
    "* 30 – 39, 9 kg/m. arasında olanlar: Obez\n",
    "* 40 kg/m.'nin üzerinde olanlar: İleri derecede obez (morbid obez), olarak görülür."
   ]
  },
  {
   "cell_type": "code",
   "execution_count": 37,
   "metadata": {},
   "outputs": [
    {
     "name": "stdout",
     "output_type": "stream",
     "text": [
      "r, t isimli, 12 yaşındaki kullanıcı, normal\n",
      "r, e isimli, 12 yaşındaki kullanıcı, normal\n",
      "yuusf, eraslan isimli, 17 yaşındaki kullanıcı, zayıf\n",
      "faith, eras isimli, 12 yaşındaki kullanıcı, normal\n",
      "y, u isimli, 13 yaşındaki kullanıcı, normal\n",
      "e, r isimli, 23 yaşındaki kullanıcı, normal\n",
      "t, y isimli, 23 yaşındaki kullanıcı, normal\n",
      "t, r isimli, 23 yaşındaki kullanıcı, normal\n"
     ]
    }
   ],
   "source": [
    "o = int(input(\"Kaç giriş yapacaksınız?\"))\n",
    "for i in range(o):\n",
    "    isim = input(\"İsminizi girin\")\n",
    "    soyisim = input(\"Soyisminizi girin\")\n",
    "    yas = int(input(\"Yaşınızı girin\"))\n",
    "    boy = float(input(\"Boyunuzu girin (m)\"))\n",
    "    kilo = int(input(\"Kilonuzu girin (kg)\"))\n",
    "    with open(\"C:\\\\Users\\\\LENOVO\\\\Desktop\\\\vki.txt\", \"a\", encoding=\"utf-8\") as file:\n",
    "        file.write(f\"{isim}, {soyisim}, {yas}, {boy}, {kilo}\\n\")\n",
    "        file.close()\n",
    "def vkiOlcer():\n",
    "    with open(\"C:\\\\Users\\\\LENOVO\\\\Desktop\\\\vki.txt\", \"r\", encoding=\"utf-8\") as file:\n",
    "        lines = file.readlines()\n",
    "\n",
    "        for line in lines:\n",
    "            data = line.strip().split(\", \")\n",
    "            \n",
    "            isim, soyisim, yas, boy, kilo = data\n",
    "            yas, boy, kilo = int(yas), float(boy), int(kilo)\n",
    "            global vki\n",
    "            vki = kilo/boy**2\n",
    "            if vki<18.5:\n",
    "                print(f\"{isim}, {soyisim} isimli, {yas} yaşındaki kullanıcı, zayıf\")\n",
    "            elif 18.5<vki<24.9:\n",
    "                  print(f\"{isim}, {soyisim} isimli, {yas} yaşındaki kullanıcı, normal\")\n",
    "            elif 24.9<vki<29.9:\n",
    "                print(f\"{isim}, {soyisim} isimli, {yas} yaşındaki kullanıcı, fazla\")\n",
    "            elif 29.9<vki<39.9:\n",
    "                print(f\"{isim}, {soyisim} isimli, {yas} yaşındaki kullanıcı, obez\")\n",
    "            elif vki>40:\n",
    "                print(f\"{isim}, {soyisim} isimli, {yas} yaşındaki kullanıcı, dana\")\n",
    "vkiOlcer()"
   ]
  },
  {
   "attachments": {},
   "cell_type": "markdown",
   "metadata": {},
   "source": [
    "# Problem 2\n",
    "**YetBar - Smoothie Bank**\n",
    "---\n",
    "YetBar spor salonunun girişinde bulunan, insansız bir sağlıklı içecek otomatıdır. Kullanıcı çeşitli girdiler smoothie içeceğine koyacağı ürünleri belirleyebilir, fiyat hesaplaması yaptırabilir ya da sadece menüyü görüntüleyebilir.\n",
    "\n",
    "**Projenin Amacı:**\n",
    "\n",
    "*   Birbirini etkileyen ve bir kod içerisinde birden fazla defa başvurulacak fonksiyonların oluşturulup, \"fonksiyonel\" proglamlamak.\n",
    "*   Büyük programları yazarken, yazılımcı olarak yapabileceğimiz hatalardan kaçınmak için kontrol yöntemleri geliştirmek.\n",
    "*   Kullanıcı inputlarını ve yaptığımız hesapları, raporlamak/loglamak amacıyla kaydetmek.\n",
    "\n",
    "**Programdan Beklenen Çıktılar**\n",
    "* Program kullanıcıya temelde 2 farklı işlem yapma imkanı sağlar.\n",
    "> 1. Menüyü görüntüleme\n",
    "> 3. Satın alma\n",
    "* Satın alınan her içecek tarih, fiyat bilgisi ile kaydedilmeli ve her zaman ulaşılabilir olmalıdır.\n",
    "\n",
    "\n"
   ]
  },
  {
   "cell_type": "code",
   "execution_count": 3,
   "metadata": {},
   "outputs": [
    {
     "name": "stdout",
     "output_type": "stream",
     "text": [
      "\n",
      "1. Menüyü Göster\n",
      "2. Satın Al\n",
      "3. Satın Alınanların Geçmişini Göster\n",
      "4. Çıkış\n",
      "Satın alınan içeceklerin listesi:\n",
      "Tarih: 2024-07-18 18:05:08, Fiyat: 5 TL\n",
      "\n",
      "1. Menüyü Göster\n",
      "2. Satın Al\n",
      "3. Satın Alınanların Geçmişini Göster\n",
      "4. Çıkış\n"
     ]
    }
   ],
   "source": [
    "import os\n",
    "from datetime import datetime\n",
    "\n",
    "keys = []\n",
    "values = []\n",
    "\n",
    "with open(\"C:\\\\Users\\\\LENOVO\\\\Desktop\\\\menü.txt\", \"r\", encoding=\"utf-8\") as file:\n",
    "    lines = file.readlines()\n",
    "    duzenlenmis_lines = [eleman.strip().split(\", \") for eleman in lines]\n",
    "    for eleman in duzenlenmis_lines:\n",
    "        keys.append(eleman[0])\n",
    "        values.append(int(eleman[1]))\n",
    "\n",
    "sozluk = dict(zip(keys, values))\n",
    "\n",
    "def menu():\n",
    "    with open(\"C:\\\\Users\\\\LENOVO\\\\Desktop\\\\menü.txt\", \"r\", encoding=\"utf-8\") as file:\n",
    "        print(file.read())\n",
    "        file.close()\n",
    "\n",
    "def satis():\n",
    "    x = int(input(\"Kaç adet malzeme eklemek istersiniz?\"))\n",
    "    o = 1\n",
    "    receipt = 0\n",
    "    malzemeler = []\n",
    "    for hel in range(x):\n",
    "        malzeme = input(f\"Seçmek istediğiniz {o}. ürünü giriniz: \")\n",
    "        o+=1\n",
    "        if malzeme in sozluk:\n",
    "            receipt += sozluk[malzeme]\n",
    "        else:\n",
    "            print(f\"{malzeme} ürünü bulunamadı.\")\n",
    "    tarih = datetime.now().strftime(\"%Y-%m-%d %H:%M:%S\")\n",
    "    fiyat = sozluk[malzeme]\n",
    "    with open(\"satinalinanlar.txt\", \"a\", encoding=\"utf-8\") as file:\n",
    "        file.write(f\"{tarih},{fiyat}\\n\")\n",
    "    print(receipt)\n",
    "\n",
    "def gecmis():\n",
    "    print(\"Satın alınan içeceklerin listesi:\")\n",
    "    with open(\"C:\\\\3Users\\\\LENOVO\\\\Desktop\\\\log.txt\", \"r\", encoding=\"utf-8\") as file:\n",
    "        for line in file:\n",
    "            global fiyat\n",
    "            tarih, fiyat = line.strip().split(\",\")\n",
    "            print(f\"Tarih: {tarih}, Fiyat: {fiyat} TL\")\n",
    "\n",
    "while True:\n",
    "    print(\"\\n1. Menüyü Göster\")\n",
    "    print(\"2. Satın Al\")\n",
    "    print(\"3. Satın Alınanların Geçmişini Göster\")\n",
    "    print(\"4. Çıkış\")\n",
    "    \n",
    "    secim = input(\"Yapmak istediğiniz işlemi seçin (1/2/3/4): \")\n",
    "    \n",
    "    if secim == \"1\":\n",
    "        menu()\n",
    "    elif secim == \"2\":\n",
    "        satis()\n",
    "    elif secim == \"3\":\n",
    "        gecmis()\n",
    "    elif secim == \"4\":\n",
    "        print(\"Programdan çıkılıyor...\")\n",
    "        break\n",
    "    else:\n",
    "        print(\"Geçersiz seçim. Lütfen tekrar deneyin.\")"
   ]
  }
 ],
 "metadata": {
  "kernelspec": {
   "display_name": "Python 3",
   "language": "python",
   "name": "python3"
  },
  "language_info": {
   "codemirror_mode": {
    "name": "ipython",
    "version": 3
   },
   "file_extension": ".py",
   "mimetype": "text/x-python",
   "name": "python",
   "nbconvert_exporter": "python",
   "pygments_lexer": "ipython3",
   "version": "3.12.3"
  },
  "orig_nbformat": 4,
  "vscode": {
   "interpreter": {
    "hash": "5026d2d6e7aaaaba093def813beadff083d8733e4a511af01735cbabd156995d"
   }
  }
 },
 "nbformat": 4,
 "nbformat_minor": 2
}
