{
 "cells": [
  {
   "attachments": {},
   "cell_type": "markdown",
   "metadata": {},
   "source": [
    "# Problem 1\n",
    "\n",
    "Kumanda isminde bir sınıf oluşturarak aşağıdaki işlemleri yapmasını sağlayan fonksiyonları sınıf içerisinde yazalım.\n",
    "1. Tv Aç\n",
    "2. Tv Kapat\n",
    "3. Ses Ayarları\n",
    "4. Kanal Ekle\n",
    "5. Kanal Sayısını Öğrenme\n",
    "6. Rastgele Kanala Geçme\n",
    "7. Televizyon Bilgileri\n",
    "\n",
    "\n",
    "Kumandayı kapatmak için q tuşuna basılmalı ve diğer durumlarda hangi işlemi yapmak istediği sorulmalıdır. Her işlemde gerekli fonksiyonunun sınıf içerisinden çağırılması gerekmektedir.\n",
    "\n",
    "random ve time kütüphanesini araştırarak kullanabilirsiniz.\n",
    "\n",
    "Kendi istediğiniz özellikleri eklemekte serbetsiniz."
   ]
  },
  {
   "cell_type": "code",
   "execution_count": 9,
   "metadata": {},
   "outputs": [
    {
     "name": "stdout",
     "output_type": "stream",
     "text": [
      "Yapmak istediğiniz işlemi girin:\n",
      "1. Tv Aç\n",
      "2. Tv Kapat\n",
      "3. Ses Ayarları\n",
      "4. Kanal Ekle\n",
      "5. Kanal Sayısını Öğrenme\n",
      "6. Rastgele Kanala Geçme\n",
      "7. Televizyon Bilgileri\n",
      "tv zaten kapalı\n",
      "tv zaten kapalı\n"
     ]
    },
    {
     "ename": "ValueError",
     "evalue": "invalid literal for int() with base 10: 'q'",
     "output_type": "error",
     "traceback": [
      "\u001b[1;31m---------------------------------------------------------------------------\u001b[0m",
      "\u001b[1;31mValueError\u001b[0m                                Traceback (most recent call last)",
      "Cell \u001b[1;32mIn[9], line 57\u001b[0m\n\u001b[0;32m     55\u001b[0m         \u001b[38;5;28;01melif\u001b[39;00m x\u001b[38;5;241m==\u001b[39m\u001b[38;5;241m6\u001b[39m:\n\u001b[0;32m     56\u001b[0m             kumanda\u001b[38;5;241m.\u001b[39mtvInfo()\n\u001b[1;32m---> 57\u001b[0m \u001b[43mmenu\u001b[49m\u001b[43m(\u001b[49m\u001b[43m)\u001b[49m\n",
      "Cell \u001b[1;32mIn[9], line 44\u001b[0m, in \u001b[0;36mmenu\u001b[1;34m()\u001b[0m\n\u001b[0;32m     42\u001b[0m \u001b[38;5;28mprint\u001b[39m(\u001b[38;5;124m\"\u001b[39m\u001b[38;5;124mYapmak istediğiniz işlemi girin:\u001b[39m\u001b[38;5;130;01m\\n\u001b[39;00m\u001b[38;5;124m1. Tv Aç\u001b[39m\u001b[38;5;130;01m\\n\u001b[39;00m\u001b[38;5;124m2. Tv Kapat\u001b[39m\u001b[38;5;130;01m\\n\u001b[39;00m\u001b[38;5;124m3. Ses Ayarları\u001b[39m\u001b[38;5;130;01m\\n\u001b[39;00m\u001b[38;5;124m4. Kanal Ekle\u001b[39m\u001b[38;5;130;01m\\n\u001b[39;00m\u001b[38;5;124m5. Kanal Sayısını Öğrenme\u001b[39m\u001b[38;5;130;01m\\n\u001b[39;00m\u001b[38;5;124m6. Rastgele Kanala Geçme\u001b[39m\u001b[38;5;130;01m\\n\u001b[39;00m\u001b[38;5;124m7. Televizyon Bilgileri\u001b[39m\u001b[38;5;124m\"\u001b[39m)\n\u001b[0;32m     43\u001b[0m \u001b[38;5;28;01mwhile\u001b[39;00m \u001b[38;5;28;01mTrue\u001b[39;00m:\n\u001b[1;32m---> 44\u001b[0m     x \u001b[38;5;241m=\u001b[39m \u001b[38;5;28;43mint\u001b[39;49m\u001b[43m(\u001b[49m\u001b[38;5;28;43minput\u001b[39;49m\u001b[43m(\u001b[49m\u001b[43m)\u001b[49m\u001b[43m)\u001b[49m\n\u001b[0;32m     45\u001b[0m     \u001b[38;5;28;01mif\u001b[39;00m x\u001b[38;5;241m==\u001b[39m\u001b[38;5;241m1\u001b[39m:\n\u001b[0;32m     46\u001b[0m         kumanda\u001b[38;5;241m.\u001b[39mtvAc()\n",
      "\u001b[1;31mValueError\u001b[0m: invalid literal for int() with base 10: 'q'"
     ]
    }
   ],
   "source": [
    "import random\n",
    "import time\n",
    "class Kumanda():\n",
    "    def __init__(self, ses_miktari=0, uretim_yili=2019, cozunurluk=\"8k\", tvDurum=\"kapalı\", kanal_listesi = dict()):\n",
    "        self.tvDurum = tvDurum\n",
    "        self.kanal_listesi = kanal_listesi\n",
    "        self.ses_miktari = ses_miktari\n",
    "        self.uretim_yili = uretim_yili\n",
    "        self.cozunurluk = cozunurluk\n",
    "    \n",
    "    def tvAc(self):\n",
    "        if self.tvDurum==\"kapalı\":\n",
    "            self.tvDurum==\"açık\"\n",
    "        else:\n",
    "            print(\"tv zaten açık\")\n",
    "\n",
    "    def tvKapat(self):\n",
    "        if self.tvDurum==\"açık\":\n",
    "            self.tvDurum==\"kapalı\"\n",
    "        else:\n",
    "            print(\"tv zaten kapalı\")\n",
    "\n",
    "    def sesAyarla(self):\n",
    "        ayar = int(input(\"ses mikatarını ne kadar arttırmak istiyorsunuz?\"))\n",
    "        ayar+=self.ses_miktari\n",
    "\n",
    "    def kanalEkle(self):\n",
    "        kanal = input(\"Eklemek istediğiniz kanalı giriniz: \")\n",
    "        sayi = int(input(\"Eklemek istediğiniz kanalın numarasını giriniz: \"))\n",
    "        self.kanal_listesi = {kanal :sayi}\n",
    "\n",
    "    def rastegeleKanal(self):\n",
    "        i = random.randint(1, len(self.kanal_listesi))\n",
    "        print(f\"{sozluk[i]} kanalı açılıyor...\")\n",
    "\n",
    "    def tvInfo(self):\n",
    "        print(f\"Televizyonunuz {self.uretim_yili}'nda üretilmiştir. Sahip olduğu ekran çözünürlüğü: {self.cozunurluk}\")\n",
    "\n",
    "kumanda = Kumanda(0, 2019, \"8k\", \"kapalı\")\n",
    "\n",
    "def menu():\n",
    "    print(\"Yapmak istediğiniz işlemi girin:\\n1. Tv Aç\\n2. Tv Kapat\\n3. Ses Ayarları\\n4. Kanal Ekle\\n5. Kanal Sayısını Öğrenme\\n6. Rastgele Kanala Geçme\\n7. Televizyon Bilgileri\")\n",
    "    while True:\n",
    "        x = int(input())\n",
    "        if x==1:\n",
    "            kumanda.tvAc()\n",
    "        elif x==2:\n",
    "            kumanda.tvKapat()\n",
    "        elif x==3:\n",
    "            kumanda.sesAyarla()\n",
    "        elif x==4:\n",
    "            kumanda.kanalEkle()\n",
    "        elif x==5:\n",
    "            kumanda.rastegeleKanal()\n",
    "        elif x==6:\n",
    "            kumanda.tvInfo()\n",
    "menu()"
   ]
  }
 ],
 "metadata": {
  "kernelspec": {
   "display_name": "Python 3",
   "language": "python",
   "name": "python3"
  },
  "language_info": {
   "codemirror_mode": {
    "name": "ipython",
    "version": 3
   },
   "file_extension": ".py",
   "mimetype": "text/x-python",
   "name": "python",
   "nbconvert_exporter": "python",
   "pygments_lexer": "ipython3",
   "version": "3.12.3"
  },
  "orig_nbformat": 4,
  "vscode": {
   "interpreter": {
    "hash": "5026d2d6e7aaaaba093def813beadff083d8733e4a511af01735cbabd156995d"
   }
  }
 },
 "nbformat": 4,
 "nbformat_minor": 2
}
