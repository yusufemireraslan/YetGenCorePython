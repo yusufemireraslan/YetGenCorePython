{
 "cells": [
  {
   "attachments": {},
   "cell_type": "markdown",
   "metadata": {},
   "source": [
    "# Problem 1\n",
    "\n",
    "Kumanda isminde bir sınıf oluşturarak aşağıdaki işlemleri yapmasını sağlayan fonksiyonları sınıf içerisinde yazalım.\n",
    "1. Tv Aç\n",
    "2. Tv Kapat\n",
    "3. Ses Ayarları\n",
    "4. Kanal Ekle\n",
    "5. Kanal Sayısını Öğrenme\n",
    "6. Rastgele Kanala Geçme\n",
    "7. Televizyon Bilgileri\n",
    "\n",
    "\n",
    "Kumandayı kapatmak için q tuşuna basılmalı ve diğer durumlarda hangi işlemi yapmak istediği sorulmalıdır. Her işlemde gerekli fonksiyonunun sınıf içerisinden çağırılması gerekmektedir.\n",
    "\n",
    "random ve time kütüphanesini araştırarak kullanabilirsiniz.\n",
    "\n",
    "Kendi istediğiniz özellikleri eklemekte serbetsiniz."
   ]
  },
  {
   "cell_type": "code",
   "execution_count": 5,
   "metadata": {},
   "outputs": [
    {
     "name": "stdout",
     "output_type": "stream",
     "text": [
      "Yapmak istediğiniz işlemi girin:\n",
      "1. Tv Aç\n",
      "2. Tv Kapat\n",
      "3. Ses Ayarları\n",
      "4. Kanal Ekle\n",
      "5. Kanal Sayısını Öğrenme\n",
      "6. Rastgele Kanala Geçme\n",
      "7. Televizyon Bilgileri\n"
     ]
    }
   ],
   "source": [
    "import random\n",
    "import time\n",
    "class Kumanda():\n",
    "    ses_miktari = 0\n",
    "    uretim_yili = 2019\n",
    "    cozunurluk = \"8k\"\n",
    "    def __init__(self, ses_miktari, uretim_yili, cozunurluk, tvDurum, kanal_listesi = dict()):\n",
    "        self.tvDurum = tvDurum\n",
    "        self.kanal_listesi = kanal_listesi\n",
    "        self.ses_miktari = ses_miktari\n",
    "        self.uretim_yili = uretim_yili\n",
    "        self.cozunurluk = cozunurluk\n",
    "    \n",
    "    def tvAc(self):\n",
    "        if self.tvDurum==\"kapalı\":\n",
    "            self.tvDurum==\"açık\"\n",
    "        else:\n",
    "            print(\"tv zaten açık\")\n",
    "\n",
    "    def tvKapat(self):\n",
    "        if self.tvDurum==\"açık\":\n",
    "            self.tvDurum==\"kapalı\"\n",
    "        else:\n",
    "            print(\"tv zaten kapalı\")\n",
    "\n",
    "    def sesAyarla(self):\n",
    "        ayar = int(input(\"ses mikatarını ne kadar arttırmak istiyorsunuz?\"))\n",
    "        ayar+=self.ses_miktari\n",
    "\n",
    "    def kanalEkle(self):\n",
    "        kanal = input(\"Eklemek istediğiniz kanalı giriniz: \")\n",
    "        sayi = int(input(\"Eklemek istediğiniz kanalın numarasını giriniz: \"))\n",
    "        self.kanal_listesi = {kanal :sayi}\n",
    "\n",
    "    def rastegeleKanal(self):\n",
    "        i = random.randint(1, len(self.kanal_listesi))\n",
    "        print(f\"{sozluk[i]} kanalı açılıyor...\")\n",
    "\n",
    "    def tvInfo(self):\n",
    "        print(f\"Televizyonunuz {self.uretim_yili}'nda üretilmiştir. Sahip olduğu ekran çözünürlüğü: {self.cozunurluk}\")\n",
    "\n",
    "kumanda = Kumanda(0, 2019, \"8k\", \"kapalı\")\n",
    "\n",
    "def menu():\n",
    "    print(\"Yapmak istediğiniz işlemi girin:\\n1. Tv Aç\\n2. Tv Kapat\\n3. Ses Ayarları\\n4. Kanal Ekle\\n5. Kanal Sayısını Öğrenme\\n6. Rastgele Kanala Geçme\\n7. Televizyon Bilgileri\")\n",
    "    x = int(input())\n",
    "    if x==1:\n",
    "        kumanda.tvAc()\n",
    "    elif x==2:\n",
    "        kumanda.tvKapat()\n",
    "    elif x==3:\n",
    "        kumanda.sesAyarla()\n",
    "    elif x==4:\n",
    "        kumanda.kanalEkle()\n",
    "    elif x==5:\n",
    "        kumanda.rastegeleKanal()\n",
    "    elif x==6:\n",
    "        kumanda.tvInfo()\n",
    "menu()"
   ]
  }
 ],
 "metadata": {
  "kernelspec": {
   "display_name": "Python 3",
   "language": "python",
   "name": "python3"
  },
  "language_info": {
   "codemirror_mode": {
    "name": "ipython",
    "version": 3
   },
   "file_extension": ".py",
   "mimetype": "text/x-python",
   "name": "python",
   "nbconvert_exporter": "python",
   "pygments_lexer": "ipython3",
   "version": "3.12.3"
  },
  "orig_nbformat": 4,
  "vscode": {
   "interpreter": {
    "hash": "5026d2d6e7aaaaba093def813beadff083d8733e4a511af01735cbabd156995d"
   }
  }
 },
 "nbformat": 4,
 "nbformat_minor": 2
}
